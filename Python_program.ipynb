{
  "nbformat": 4,
  "nbformat_minor": 0,
  "metadata": {
    "colab": {
      "name": "Python program.ipynb",
      "provenance": [],
      "collapsed_sections": [],
      "authorship_tag": "ABX9TyP1+TnIqhpHrad6VqaKvLyx",
      "include_colab_link": true
    },
    "kernelspec": {
      "name": "python3",
      "display_name": "Python 3"
    }
  },
  "cells": [
    {
      "cell_type": "markdown",
      "metadata": {
        "id": "view-in-github",
        "colab_type": "text"
      },
      "source": [
        "<a href=\"https://colab.research.google.com/github/MaheswariKumar/Python-Program/blob/main/Python_program.ipynb\" target=\"_parent\"><img src=\"https://colab.research.google.com/assets/colab-badge.svg\" alt=\"Open In Colab\"/></a>"
      ]
    },
    {
      "cell_type": "markdown",
      "metadata": {
        "id": "Sx7zE2k5kW4M"
      },
      "source": [
        "# Python program to interchange first and last elements in a list with Different Solutions\r\n"
      ]
    },
    {
      "cell_type": "markdown",
      "metadata": {
        "id": "GC6y_tVZkiD9"
      },
      "source": [
        "Solution 1 : Python program to interchange first\r\n",
        "and last elements in a list\r\n"
      ]
    },
    {
      "cell_type": "code",
      "metadata": {
        "colab": {
          "base_uri": "https://localhost:8080/"
        },
        "id": "oQkE_VACj776",
        "outputId": "5acb974b-c117-4c92-d76b-391c901cc4fc"
      },
      "source": [
        "# and last element of a list\r\n",
        "# Swap function\r\n",
        "def swapList(newList):\r\n",
        "  size = len(newList)\r\n",
        "  temp = newList[0]\r\n",
        "  newList[0] = newList[size - 1]\r\n",
        "  newList[size - 1] = temp\r\n",
        "  return newList\r\n",
        "  \r\n",
        "# Driver code\r\n",
        "newList = [12, 35, 9, 56, 24]\r\n",
        "print(swapList(newList)) "
      ],
      "execution_count": null,
      "outputs": [
        {
          "output_type": "stream",
          "text": [
            "[24, 35, 9, 56, 12]\n"
          ],
          "name": "stdout"
        }
      ]
    },
    {
      "cell_type": "markdown",
      "metadata": {
        "id": "uxqX7ox6k7c4"
      },
      "source": [
        "Solution 2 : Python program to interchange first\r\n",
        "and last elements in a list"
      ]
    },
    {
      "cell_type": "code",
      "metadata": {
        "colab": {
          "base_uri": "https://localhost:8080/"
        },
        "id": "sY8kI5ZXksIp",
        "outputId": "2f4f3ee3-95b1-48e0-8f72-ae4bde0c60fc"
      },
      "source": [
        "# Swap function\r\n",
        "def swapList(newList):\r\n",
        "  newList[0], newList[-1] = newList[-1], newList[0]\r\n",
        "  return newList\r\n",
        "\r\n",
        "# Driver code\r\n",
        "newList = [12, 35, 9, 56, 24]\r\n",
        "print(swapList(newList)) "
      ],
      "execution_count": null,
      "outputs": [
        {
          "output_type": "stream",
          "text": [
            "[24, 35, 9, 56, 12]\n"
          ],
          "name": "stdout"
        }
      ]
    },
    {
      "cell_type": "markdown",
      "metadata": {
        "id": "Ewo9oh6UlUoT"
      },
      "source": [
        "Solution 3 : Python program to interchange first\r\n",
        "and last elements in a list\r\n"
      ]
    },
    {
      "cell_type": "code",
      "metadata": {
        "colab": {
          "base_uri": "https://localhost:8080/"
        },
        "id": "t8JKYretlCMF",
        "outputId": "0b719842-8ec6-41e7-e126-f09d3c7a291c"
      },
      "source": [
        "def swapList(list):\r\n",
        "# Storing the first and last element\r\n",
        "# as a pair in a tuple variable get\r\n",
        "   get = list[-1], list[0]\r\n",
        "# unpacking those elements\r\n",
        "   list[0], list[-1] = get\r\n",
        "   return list\r\n",
        "   \r\n",
        "# Driver code\r\n",
        "newList = [12, 35, 9, 56, 24]\r\n",
        "print(swapList(newList)) "
      ],
      "execution_count": null,
      "outputs": [
        {
          "output_type": "stream",
          "text": [
            "[24, 35, 9, 56, 12]\n"
          ],
          "name": "stdout"
        }
      ]
    },
    {
      "cell_type": "markdown",
      "metadata": {
        "id": "M3bS7qh9lY6_"
      },
      "source": [
        "Solution 4 : Python program to interchange first\r\n",
        "and last elements in a list\r\n"
      ]
    },
    {
      "cell_type": "code",
      "metadata": {
        "colab": {
          "base_uri": "https://localhost:8080/"
        },
        "id": "UcbAIHYNlPCn",
        "outputId": "aad0fd66-d37a-4623-b983-00484a5554e6"
      },
      "source": [
        "def swapList(list):\r\n",
        "  first = list.pop(0)\r\n",
        "  last = list.pop(-1)\r\n",
        "  list.insert(0, last)\r\n",
        "  list.append(first)\r\n",
        "  return list\r\n",
        "  \r\n",
        "# Driver code\r\n",
        "newList = [12, 35, 9, 56, 24]\r\n",
        "print(swapList(newList)) "
      ],
      "execution_count": null,
      "outputs": [
        {
          "output_type": "stream",
          "text": [
            "[24, 35, 9, 56, 12]\n"
          ],
          "name": "stdout"
        }
      ]
    }
  ]
}