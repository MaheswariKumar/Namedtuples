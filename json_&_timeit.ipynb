{
  "nbformat": 4,
  "nbformat_minor": 0,
  "metadata": {
    "colab": {
      "name": "json & timeit.ipynb",
      "provenance": [],
      "authorship_tag": "ABX9TyPtOc3U2TNtm+nlqNf+7mc3",
      "include_colab_link": true
    },
    "kernelspec": {
      "name": "python3",
      "display_name": "Python 3"
    }
  },
  "cells": [
    {
      "cell_type": "markdown",
      "metadata": {
        "id": "view-in-github",
        "colab_type": "text"
      },
      "source": [
        "<a href=\"https://colab.research.google.com/github/MaheswariKumar/Python-Program/blob/main/json_%26_timeit.ipynb\" target=\"_parent\"><img src=\"https://colab.research.google.com/assets/colab-badge.svg\" alt=\"Open In Colab\"/></a>"
      ]
    },
    {
      "cell_type": "markdown",
      "metadata": {
        "id": "Z1yA4c8VxJHR"
      },
      "source": [
        "# json"
      ]
    },
    {
      "cell_type": "code",
      "metadata": {
        "colab": {
          "base_uri": "https://localhost:8080/"
        },
        "id": "JyApy7iIwwC8",
        "outputId": "0c5bf657-f0c4-4e00-b20c-10663d69f6fe"
      },
      "source": [
        "# The standard string repr for dicts is hard to read:\r\n",
        "my_mapping = {'a': 23, 'b': 42, 'c': 0xc0ffee}\r\n",
        "my_mapping"
      ],
      "execution_count": 1,
      "outputs": [
        {
          "output_type": "execute_result",
          "data": {
            "text/plain": [
              "{'a': 23, 'b': 42, 'c': 12648430}"
            ]
          },
          "metadata": {
            "tags": []
          },
          "execution_count": 1
        }
      ]
    },
    {
      "cell_type": "code",
      "metadata": {
        "colab": {
          "base_uri": "https://localhost:8080/"
        },
        "id": "DK5fFKrBxPFc",
        "outputId": "2a7e73b8-bbdb-43cd-cd8e-e9038674e41d"
      },
      "source": [
        "# The \"json\" module can do a much better job:\r\n",
        "import json\r\n",
        "print(json.dumps(my_mapping, indent=4, sort_keys=True))\r\n",
        "\r\n",
        "# Note this only works with dicts containing\r\n",
        "# primitive types (check out the \"pprint\" module):\r\n",
        "# json.dumps({all: 'yup'})\r\n",
        "#TypeError: keys must be a string"
      ],
      "execution_count": 2,
      "outputs": [
        {
          "output_type": "stream",
          "text": [
            "{\n",
            "    \"a\": 23,\n",
            "    \"b\": 42,\n",
            "    \"c\": 12648430\n",
            "}\n"
          ],
          "name": "stdout"
        }
      ]
    },
    {
      "cell_type": "code",
      "metadata": {
        "colab": {
          "base_uri": "https://localhost:8080/"
        },
        "id": "tlHaP755xbCQ",
        "outputId": "4a6b13f3-9b9f-41eb-c3e2-869c7d49b8db"
      },
      "source": [
        "# Why Python Is Great:\r\n",
        "# Function argument unpacking\r\n",
        "\r\n",
        "def myfunc(x, y, z):\r\n",
        "    print(x, y, z)\r\n",
        "\r\n",
        "tuple_vec = (1, 0, 1)\r\n",
        "dict_vec = {'x': 1, 'y': 0, 'z': 1}\r\n",
        "\r\n",
        "myfunc(*tuple_vec)\r\n",
        "myfunc(**dict_vec)"
      ],
      "execution_count": 4,
      "outputs": [
        {
          "output_type": "stream",
          "text": [
            "1 0 1\n",
            "1 0 1\n"
          ],
          "name": "stdout"
        }
      ]
    },
    {
      "cell_type": "markdown",
      "metadata": {
        "id": "eMPpBJeQxwOF"
      },
      "source": [
        "# Timeit"
      ]
    },
    {
      "cell_type": "code",
      "metadata": {
        "colab": {
          "base_uri": "https://localhost:8080/"
        },
        "id": "p0tcg4b6xlV4",
        "outputId": "3d85eda4-65e9-4aaa-81fc-d29917627480"
      },
      "source": [
        "# The \"timeit\" module lets you measure the execution\r\n",
        "# time of small bits of Python code\r\n",
        "\r\n",
        "import timeit\r\n",
        "timeit.timeit('\"-\".join(str(n) for n in range(100))',\r\n",
        "                  number=10000)"
      ],
      "execution_count": 6,
      "outputs": [
        {
          "output_type": "execute_result",
          "data": {
            "text/plain": [
              "0.2367756829999621"
            ]
          },
          "metadata": {
            "tags": []
          },
          "execution_count": 6
        }
      ]
    },
    {
      "cell_type": "code",
      "metadata": {
        "colab": {
          "base_uri": "https://localhost:8080/"
        },
        "id": "cdDf2nbEx4_G",
        "outputId": "2cef2ace-c4c8-43b6-e06a-61b7d36e1000"
      },
      "source": [
        "timeit.timeit('\"-\".join([str(n) for n in range(100)])',\r\n",
        "                  number=10000)"
      ],
      "execution_count": 7,
      "outputs": [
        {
          "output_type": "execute_result",
          "data": {
            "text/plain": [
              "0.1943129859999999"
            ]
          },
          "metadata": {
            "tags": []
          },
          "execution_count": 7
        }
      ]
    },
    {
      "cell_type": "code",
      "metadata": {
        "colab": {
          "base_uri": "https://localhost:8080/"
        },
        "id": "YQJZ-cHwx9YP",
        "outputId": "4c25180d-7809-428c-b2b0-7e1d91ff6b23"
      },
      "source": [
        "timeit.timeit('\"-\".join(map(str, range(100)))',\r\n",
        "                  number=10000)"
      ],
      "execution_count": 8,
      "outputs": [
        {
          "output_type": "execute_result",
          "data": {
            "text/plain": [
              "0.15098531699999285"
            ]
          },
          "metadata": {
            "tags": []
          },
          "execution_count": 8
        }
      ]
    },
    {
      "cell_type": "code",
      "metadata": {
        "id": "mssbRlZ7yCpG"
      },
      "source": [
        ""
      ],
      "execution_count": null,
      "outputs": []
    }
  ]
}